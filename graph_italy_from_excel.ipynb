{
  "nbformat": 4,
  "nbformat_minor": 0,
  "metadata": {
    "colab": {
      "name": "graph_italy_from_excel",
      "provenance": [],
      "collapsed_sections": []
    },
    "kernelspec": {
      "name": "python3",
      "display_name": "Python 3"
    }
  },
  "cells": [
    {
      "cell_type": "markdown",
      "metadata": {
        "id": "yBzPjiqvjPtb",
        "colab_type": "text"
      },
      "source": [
        "DEVELOPED BY TUFARINI EMANUELE |\n",
        "emanuele.tufarini@live.com |\n",
        "3245606745"
      ]
    },
    {
      "cell_type": "markdown",
      "metadata": {
        "id": "tJRjvrGKZvAs",
        "colab_type": "text"
      },
      "source": [
        "IMPORTA IL FILE EXCEL"
      ]
    },
    {
      "cell_type": "code",
      "metadata": {
        "id": "ERsVUwKXaTuW",
        "colab_type": "code",
        "outputId": "c31ddf4b-3b87-4a5d-f75c-df21230512a3",
        "colab": {
          "resources": {
            "http://localhost:8080/nbextensions/google.colab/files.js": {
              "data": "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",
              "ok": true,
              "headers": [
                [
                  "content-type",
                  "application/javascript"
                ]
              ],
              "status": 200,
              "status_text": ""
            }
          },
          "base_uri": "https://localhost:8080/",
          "height": 74
        }
      },
      "source": [
        "from google.colab import files\n",
        "uploaded = files.upload()"
      ],
      "execution_count": 0,
      "outputs": [
        {
          "output_type": "display_data",
          "data": {
            "text/html": [
              "\n",
              "     <input type=\"file\" id=\"files-223a2690-1774-44a1-a4e6-a37f04eeb14d\" name=\"files[]\" multiple disabled />\n",
              "     <output id=\"result-223a2690-1774-44a1-a4e6-a37f04eeb14d\">\n",
              "      Upload widget is only available when the cell has been executed in the\n",
              "      current browser session. Please rerun this cell to enable.\n",
              "      </output>\n",
              "      <script src=\"/nbextensions/google.colab/files.js\"></script> "
            ],
            "text/plain": [
              "<IPython.core.display.HTML object>"
            ]
          },
          "metadata": {
            "tags": []
          }
        },
        {
          "output_type": "stream",
          "text": [
            "Saving cases_italy.xlsx to cases_italy.xlsx\n"
          ],
          "name": "stdout"
        }
      ]
    },
    {
      "cell_type": "markdown",
      "metadata": {
        "id": "BNbP04buaT76",
        "colab_type": "text"
      },
      "source": [
        "INSTALLA LE LIBRERIE"
      ]
    },
    {
      "cell_type": "code",
      "metadata": {
        "id": "fmS1jZDwZ0d6",
        "colab_type": "code",
        "outputId": "60cae126-bcf1-46a5-fa30-4706594fc279",
        "colab": {
          "base_uri": "https://localhost:8080/",
          "height": 255
        }
      },
      "source": [
        "!pip install matplotlib\n",
        "!pip install COVID19Py\n",
        "!pip install pandas\n",
        "!pip install xlrd"
      ],
      "execution_count": 0,
      "outputs": [
        {
          "output_type": "stream",
          "text": [
            "Requirement already satisfied: matplotlib in /usr/local/lib/python3.6/dist-packages (3.2.1)\n",
            "Requirement already satisfied: numpy>=1.11 in /usr/local/lib/python3.6/dist-packages (from matplotlib) (1.18.2)\n",
            "Requirement already satisfied: pyparsing!=2.0.4,!=2.1.2,!=2.1.6,>=2.0.1 in /usr/local/lib/python3.6/dist-packages (from matplotlib) (2.4.7)\n",
            "Requirement already satisfied: python-dateutil>=2.1 in /usr/local/lib/python3.6/dist-packages (from matplotlib) (2.8.1)\n",
            "Requirement already satisfied: kiwisolver>=1.0.1 in /usr/local/lib/python3.6/dist-packages (from matplotlib) (1.2.0)\n",
            "Requirement already satisfied: cycler>=0.10 in /usr/local/lib/python3.6/dist-packages (from matplotlib) (0.10.0)\n",
            "Requirement already satisfied: six>=1.5 in /usr/local/lib/python3.6/dist-packages (from python-dateutil>=2.1->matplotlib) (1.12.0)\n",
            "Requirement already satisfied: COVID19Py in /usr/local/lib/python3.6/dist-packages (0.3.0)\n",
            "Requirement already satisfied: pandas in /usr/local/lib/python3.6/dist-packages (1.0.3)\n",
            "Requirement already satisfied: numpy>=1.13.3 in /usr/local/lib/python3.6/dist-packages (from pandas) (1.18.2)\n",
            "Requirement already satisfied: pytz>=2017.2 in /usr/local/lib/python3.6/dist-packages (from pandas) (2018.9)\n",
            "Requirement already satisfied: python-dateutil>=2.6.1 in /usr/local/lib/python3.6/dist-packages (from pandas) (2.8.1)\n",
            "Requirement already satisfied: six>=1.5 in /usr/local/lib/python3.6/dist-packages (from python-dateutil>=2.6.1->pandas) (1.12.0)\n",
            "Requirement already satisfied: xlrd in /usr/local/lib/python3.6/dist-packages (1.1.0)\n"
          ],
          "name": "stdout"
        }
      ]
    },
    {
      "cell_type": "markdown",
      "metadata": {
        "id": "_gK7e3fxZ2po",
        "colab_type": "text"
      },
      "source": [
        "IMPORTA I MODULI"
      ]
    },
    {
      "cell_type": "code",
      "metadata": {
        "id": "ZgLKfGYzZ2zb",
        "colab_type": "code",
        "colab": {}
      },
      "source": [
        "from matplotlib import pyplot as plt\n",
        "import pandas as pd\n",
        "import datetime\n",
        "import csv\n",
        "import os"
      ],
      "execution_count": 0,
      "outputs": []
    },
    {
      "cell_type": "markdown",
      "metadata": {
        "id": "n32Yw4n8I-i7",
        "colab_type": "text"
      },
      "source": [
        "IMPOSTA LA DATA"
      ]
    },
    {
      "cell_type": "code",
      "metadata": {
        "id": "FzrC2l4BI-0r",
        "colab_type": "code",
        "outputId": "db4cad49-94b5-41c9-e987-be8c847c8dc5",
        "colab": {
          "base_uri": "https://localhost:8080/",
          "height": 34
        }
      },
      "source": [
        "# +1 italy time zone > str( int (data.hour + 1))\n",
        "data_day = datetime.datetime.now()\n",
        "data_day = (str(data_day.year) + \"-\" + str(data_day.month) + \"-\" + \\\n",
        "       str(data_day.day))\n",
        "\n",
        "print (data_day)"
      ],
      "execution_count": 0,
      "outputs": [
        {
          "output_type": "stream",
          "text": [
            "2020-4-11\n"
          ],
          "name": "stdout"
        }
      ]
    },
    {
      "cell_type": "markdown",
      "metadata": {
        "id": "RvIwxX9UZ3EH",
        "colab_type": "text"
      },
      "source": [
        "PROCESSA I CASI CONFERMATI"
      ]
    },
    {
      "cell_type": "code",
      "metadata": {
        "id": "3tAjpoYlZ3NL",
        "colab_type": "code",
        "colab": {}
      },
      "source": [
        "# CASES\n",
        "# \n",
        "# \n",
        "# https://data.europa.eu/euodp/en/data/dataset/covid-19-coronavirus-data\n",
        "# /resource/55e8f966-d5c8-438e-85bc-c7a5a26f4863\n",
        "# \n",
        "# \n",
        "\n",
        "# insert info\n",
        "info = 5\n",
        "\n",
        "# insert file name\n",
        "name = r'cases_italy'\n",
        "extension = '.xlsx'\n",
        "read_file = pd.read_excel (name + extension)\n",
        "name = name.lower()\n",
        "\n",
        "\n",
        "read_file.to_csv (name + '.csv', index = None, header=True)\n",
        "# delete first line of csv\n",
        "lines = open(name + '.csv', 'r').readlines()\n",
        "del lines[0:4]\n",
        "open(name + '.csv', 'w').writelines(lines)\n",
        "\n",
        "#\n",
        "#\n",
        "# process the csv\n",
        "#\n",
        "#\n",
        "\n",
        "name = 'cases_italy.csv'\n",
        "\n",
        "with open(name, 'r') as infile, open('new_' + name, 'w') as outfile:\n",
        "\twriter = csv.writer(outfile)\n",
        "\tnewrow_list = [\"date\",\"confirmed\",]\n",
        "\twriter.writerow(newrow_list)\n",
        "\n",
        "################################################################################\n",
        "\n",
        "\treader = csv.reader(infile)\n",
        "\tfor row in reader:\n",
        "\t\tnewrow_list[0] = row[1]\n",
        "\t\tnewrow_list[1] = row[info]\n",
        "\n",
        "\t\tif row[info] == '':\n",
        "\t\t\tnewrow_list[1] = '0'\n",
        "\n",
        "\t\twriter.writerow(newrow_list)\n",
        "\t\n",
        "\t\tcases_italy = open ('cases_italy.txt','w')\n",
        "\t\t\n",
        "\t\tcases_italy.write(newrow_list[0])\n",
        "  \n",
        "#\n",
        "#\n",
        "# convert csv in txt - contains data\n",
        "#\n",
        "#\n",
        "\n",
        "csv_file = 'new_' + name\n",
        "txt_file = 'data.txt'\n",
        "with open(txt_file, \"w\") as my_output_file:\n",
        "    with open(csv_file, \"r\") as my_input_file:\n",
        "        [ my_output_file.write(\" \".join(row)+'\\n') \\\n",
        "         for row in csv.reader(my_input_file)]\n",
        "    my_output_file.close()\n",
        "\n",
        "with open('data.txt', 'r', encoding='utf-8') as inFile,\\\n",
        "     open('new_data.txt', 'w', encoding='utf-8') as outFile:\n",
        "    for line in inFile:\n",
        "        if line.strip():\n",
        "            outFile.write(line)\n",
        "            \n",
        "lines = open('new_data' + '.txt', 'r').readlines()\n",
        "open('new_data' + '.txt', 'w').writelines(lines)\n",
        "\n",
        "filein = open (\"new_data.txt\",\"r\")\n",
        "\n",
        "file_data = open (\"only_data.txt\",\"w\")\n",
        "file_confirmed = open (\"only_confirmed.txt\",\"w\")\n",
        "\n",
        "for l in filein:\n",
        "\tdata = (l[:10])\n",
        "\tfile_data.write(data.strip() + \"\\n\")\n",
        "\t\t\t\n",
        "\tconfirmed = (l[20:])\n",
        "\tfile_confirmed.write(confirmed.strip() + \"\\n\")\n",
        "\n",
        "file_data.close()\n",
        "file_confirmed.close()\n",
        "\n",
        "# delete the first line\n",
        "with open(\"only_data.txt\", 'r') as fin:\n",
        "  data = fin.read().splitlines(True)\n",
        "with open(\"only_data.txt\", 'w') as fout:\n",
        "  fout.writelines(data[1:])\n",
        "\n",
        "\n",
        "with open(\"only_confirmed.txt\", 'r') as fin:\n",
        "  data = fin.read().splitlines(True)\n",
        "with open(\"only_confirmed.txt\", 'w') as fout:\n",
        "  fout.writelines(data[1:])\n",
        "\n",
        "List = open(\"only_confirmed.txt\").readlines()\n",
        "List = [x.replace('\\n', '') for x in List]\n",
        "\n",
        "with open(\"only_confirmed.txt\", 'w') as fin:\n",
        "\n",
        "\tfor l in List:\n",
        "\t\tp = \") \"\n",
        "\t\tif p in l:\n",
        "\t\t\tfin.write(l[l.index(p)+2:] + \"\\n\")\n",
        "\t\telse:\n",
        "\t\t\tfin.write(l + \"\\n\")\n",
        "\t\n",
        "List = open(\"only_confirmed.txt\").readlines()\n",
        "List = [x.replace('\\n', '') for x in List]\n",
        "List = [x.replace(',', '') for x in List]\t\n",
        "List = [x.replace('–', '-') for x in List]\t\n",
        "# convert the elements in the list to int\n",
        "\n",
        "for i in range(0, len(List)): \n",
        "  List[i] = int(List[i]) \n",
        "    \n",
        "List_data = open(\"only_data.txt\").readlines()\n",
        "List_data = [x.replace('\\n', '') for x in List_data]"
      ],
      "execution_count": 0,
      "outputs": []
    },
    {
      "cell_type": "markdown",
      "metadata": {
        "id": "EeW_XuHAc_sb",
        "colab_type": "text"
      },
      "source": [
        "GRAFICO DEI CASI CONFERMATI"
      ]
    },
    {
      "cell_type": "code",
      "metadata": {
        "id": "cR0eaXo4c_0D",
        "colab_type": "code",
        "outputId": "11d43124-5b5b-4b44-ddf0-35c73ecce2ee",
        "colab": {
          "base_uri": "https://localhost:8080/",
          "height": 296
        }
      },
      "source": [
        "print (data_day)\n",
        "\n",
        "#\n",
        "#\n",
        "# graph by info\n",
        "#\n",
        "# \n",
        "\n",
        "plt.plot(List, label=\"confirmed to date\")\n",
        "plt.ylabel(\"confirmed to date\")\n",
        "plt.xlabel(\"days since 2020-02-21\")\n",
        "plt.legend() \n",
        "\n",
        "plt.show()"
      ],
      "execution_count": 0,
      "outputs": [
        {
          "output_type": "stream",
          "text": [
            "2020-4-11\n"
          ],
          "name": "stdout"
        },
        {
          "output_type": "display_data",
          "data": {
            "image/png": "[encoded data removed]",
            "text/plain": [
              "<Figure size 432x288 with 1 Axes>"
            ]
          },
          "metadata": {
            "tags": [],
            "needs_background": "light"
          }
        }
      ]
    },
    {
      "cell_type": "markdown",
      "metadata": {
        "id": "VkOrcPhiMp_L",
        "colab_type": "text"
      },
      "source": [
        "PROCESSA I DECESSI"
      ]
    },
    {
      "cell_type": "code",
      "metadata": {
        "id": "4c_7N136Mx-B",
        "colab_type": "code",
        "colab": {}
      },
      "source": [
        "# DEATHS\n",
        "# \n",
        "# \n",
        "# https://data.europa.eu/euodp/en/data/dataset/covid-19-coronavirus-data\n",
        "# /resource/55e8f966-d5c8-438e-85bc-c7a5a26f4863\n",
        "# \n",
        "# \n",
        "\n",
        "# insert info\n",
        "info = 6\n",
        "\n",
        "# insert file name\n",
        "name = r'cases_italy'\n",
        "extension = '.xlsx'\n",
        "read_file = pd.read_excel (name + extension)\n",
        "name = name.lower()\n",
        "\n",
        "\n",
        "read_file.to_csv (name + '.csv', index = None, header=True)\n",
        "# delete first line of csv\n",
        "lines = open(name + '.csv', 'r').readlines()\n",
        "del lines[0:4]\n",
        "open(name + '.csv', 'w').writelines(lines)\n",
        "\n",
        "#\n",
        "#\n",
        "# process the csv\n",
        "#\n",
        "#\n",
        "\n",
        "name = 'cases_italy.csv'\n",
        "\n",
        "with open(name, 'r') as infile, open('new_' + name, 'w') as outfile:\n",
        "\twriter = csv.writer(outfile)\n",
        "\tnewrow_list = [\"date\",\"confirmed\",]\n",
        "\twriter.writerow(newrow_list)\n",
        "\n",
        "################################################################################\n",
        "\n",
        "\treader = csv.reader(infile)\n",
        "\tfor row in reader:\n",
        "\t\tnewrow_list[0] = row[1]\n",
        "\t\tnewrow_list[1] = row[info]\n",
        "\n",
        "\t\tif row[info] == '':\n",
        "\t\t\tnewrow_list[1] = '0'\n",
        "\n",
        "\t\twriter.writerow(newrow_list)\n",
        "\t\n",
        "\t\tcases_italy = open ('cases_italy.txt','w')\n",
        "\t\t\n",
        "\t\tcases_italy.write(newrow_list[0])\n",
        "  \n",
        "#\n",
        "#\n",
        "# convert csv in txt - contains data\n",
        "#\n",
        "#\n",
        "\n",
        "csv_file = 'new_' + name\n",
        "txt_file = 'data.txt'\n",
        "with open(txt_file, \"w\") as my_output_file:\n",
        "    with open(csv_file, \"r\") as my_input_file:\n",
        "        [ my_output_file.write(\" \".join(row)+'\\n') \\\n",
        "         for row in csv.reader(my_input_file)]\n",
        "    my_output_file.close()\n",
        "\n",
        "with open('data.txt', 'r', encoding='utf-8') as inFile,\\\n",
        "     open('new_data.txt', 'w', encoding='utf-8') as outFile:\n",
        "    for line in inFile:\n",
        "        if line.strip():\n",
        "            outFile.write(line)\n",
        "            \n",
        "lines = open('new_data' + '.txt', 'r').readlines()\n",
        "open('new_data' + '.txt', 'w').writelines(lines)\n",
        "\n",
        "filein = open (\"new_data.txt\",\"r\")\n",
        "\n",
        "file_data = open (\"only_data.txt\",\"w\")\n",
        "file_confirmed = open (\"only_confirmed.txt\",\"w\")\n",
        "\n",
        "for l in filein:\n",
        "\tdata = (l[:10])\n",
        "\tfile_data.write(data.strip() + \"\\n\")\n",
        "\t\t\t\n",
        "\tconfirmed = (l[20:])\n",
        "\tfile_confirmed.write(confirmed.strip() + \"\\n\")\n",
        "\n",
        "file_data.close()\n",
        "file_confirmed.close()\n",
        "\n",
        "# delete the first line\n",
        "with open(\"only_data.txt\", 'r') as fin:\n",
        "  data = fin.read().splitlines(True)\n",
        "with open(\"only_data.txt\", 'w') as fout:\n",
        "  fout.writelines(data[1:])\n",
        "\n",
        "\n",
        "with open(\"only_confirmed.txt\", 'r') as fin:\n",
        "  data = fin.read().splitlines(True)\n",
        "with open(\"only_confirmed.txt\", 'w') as fout:\n",
        "  fout.writelines(data[1:])\n",
        "\n",
        "List2 = open(\"only_confirmed.txt\").readlines()\n",
        "List2 = [x.replace('\\n', '') for x in List2]\n",
        "\n",
        "with open(\"only_confirmed.txt\", 'w') as fin:\n",
        "\n",
        "\tfor l in List2:\n",
        "\t\tp = \") \"\n",
        "\t\tif p in l:\n",
        "\t\t\tfin.write(l[l.index(p)+2:] + \"\\n\")\n",
        "\t\telse:\n",
        "\t\t\tfin.write(l + \"\\n\")\n",
        "\t\n",
        "List2 = open(\"only_confirmed.txt\").readlines()\n",
        "List2 = [x.replace('\\n', '') for x in List2]\n",
        "List2 = [x.replace(',', '') for x in List2]\t\n",
        "List2 = [x.replace('–', '-') for x in List2]\t\n",
        "# convert the elements in the list to int\n",
        "\n",
        "for i in range(0, len(List)): \n",
        "  List2[i] = int(List2[i]) \n",
        "    \n",
        "List_data = open(\"only_data.txt\").readlines()\n",
        "List_data = [x.replace('\\n', '') for x in List_data]"
      ],
      "execution_count": 0,
      "outputs": []
    },
    {
      "cell_type": "markdown",
      "metadata": {
        "id": "c46rUb2YOmWn",
        "colab_type": "text"
      },
      "source": [
        "GRAFICO DEI DECESSI"
      ]
    },
    {
      "cell_type": "code",
      "metadata": {
        "id": "sQIMkMl0OmiE",
        "colab_type": "code",
        "outputId": "416946aa-2590-4873-8522-fb7615aff1ca",
        "colab": {
          "base_uri": "https://localhost:8080/",
          "height": 296
        }
      },
      "source": [
        "print (data_day)\n",
        "\n",
        "#\n",
        "#\n",
        "# graph by info\n",
        "#\n",
        "# \n",
        "\n",
        "plt.plot(List2, label=\"fatalities to date\")\n",
        "\n",
        "plt.ylabel(\"fatalities to date\")\n",
        "plt.xlabel(\"days since 2020-02-21\")\n",
        "plt.legend() \n",
        "\n",
        "plt.show()"
      ],
      "execution_count": 0,
      "outputs": [
        {
          "output_type": "stream",
          "text": [
            "2020-4-11\n"
          ],
          "name": "stdout"
        },
        {
          "output_type": "display_data",
          "data": {
            "image/png": "[encoded data removed]",
            "text/plain": [
              "<Figure size 432x288 with 1 Axes>"
            ]
          },
          "metadata": {
            "tags": [],
            "needs_background": "light"
          }
        }
      ]
    },
    {
      "cell_type": "markdown",
      "metadata": {
        "id": "gRhqDdnarXS_",
        "colab_type": "text"
      },
      "source": [
        "GRAFICO DEI CASI CONFERMATI E DEI DECESSI"
      ]
    },
    {
      "cell_type": "code",
      "metadata": {
        "id": "-IeNGa2urXfL",
        "colab_type": "code",
        "outputId": "6249c58f-62da-4128-ae20-8f412f29a87d",
        "colab": {
          "base_uri": "https://localhost:8080/",
          "height": 296
        }
      },
      "source": [
        "print (data_day)\n",
        "\n",
        "#\n",
        "#\n",
        "# graph by info\n",
        "#\n",
        "# \n",
        "\n",
        "plt.plot(List, label=\"confirmed to date\")\n",
        "plt.plot(List2, label=\"fatalities to date\")\n",
        "\n",
        "plt.ylabel(\"fatalities to date\")\n",
        "plt.xlabel(\"days since 2020-02-21\")\n",
        "plt.legend() \n",
        "\n",
        "plt.show()"
      ],
      "execution_count": 0,
      "outputs": [
        {
          "output_type": "stream",
          "text": [
            "2020-4-11\n"
          ],
          "name": "stdout"
        },
        {
          "output_type": "display_data",
          "data": {
            "image/png": "[encoded data removed]",
            "text/plain": [
              "<Figure size 432x288 with 1 Axes>"
            ]
          },
          "metadata": {
            "tags": [],
            "needs_background": "light"
          }
        }
      ]
    },
    {
      "cell_type": "markdown",
      "metadata": {
        "id": "VwJRhuCD-yx5",
        "colab_type": "text"
      },
      "source": [
        "CANCELLARE FILE NON NECESSARI"
      ]
    },
    {
      "cell_type": "code",
      "metadata": {
        "id": "FFM2io5y-2-5",
        "colab_type": "code",
        "colab": {}
      },
      "source": [
        "os.remove('cases_italy.csv')\n",
        "os.remove('new_cases_italy.csv')\n",
        "os.remove('cases_italy.txt')\n",
        "os.remove('data.txt')\n",
        "os.remove('new_data.txt')"
      ],
      "execution_count": 0,
      "outputs": []
    }
  ]
}