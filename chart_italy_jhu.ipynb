{
  "nbformat": 4,
  "nbformat_minor": 0,
  "metadata": {
    "colab": {
      "name": "chart_italy_jhu.ipynb",
      "provenance": [],
      "collapsed_sections": []
    },
    "kernelspec": {
      "name": "python3",
      "display_name": "Python 3"
    }
  },
  "cells": [
    {
      "cell_type": "markdown",
      "metadata": {
        "id": "ucOlbL4rfOvl",
        "colab_type": "text"
      },
      "source": [
        "DEVELOPED BY TUFARINI EMANUELE |\n",
        "emanuele.tufarini@live.com |\n",
        "3245606745"
      ]
    },
    {
      "cell_type": "markdown",
      "metadata": {
        "id": "Cgi9cu-ca1uF",
        "colab_type": "text"
      },
      "source": [
        "INSTALLA I PACCHETTI"
      ]
    },
    {
      "cell_type": "code",
      "metadata": {
        "id": "Uk2x_XSUa2Ec",
        "colab_type": "code",
        "outputId": "81f26951-c05e-49ed-ac10-cbe4b939fb8a",
        "colab": {
          "base_uri": "https://localhost:8080/",
          "height": 289
        }
      },
      "source": [
        "!pip install COVID19Py\n",
        "!pip install matplotlib"
      ],
      "execution_count": 0,
      "outputs": [
        {
          "output_type": "stream",
          "text": [
            "Collecting COVID19Py\n",
            "  Downloading https://files.pythonhosted.org/packages/d2/e5/d8129426769328cc19d939c7ccb9cb774a79de92cb093bec65f3dc81eb75/COVID19Py-0.3.0.tar.gz\n",
            "Building wheels for collected packages: COVID19Py\n",
            "  Building wheel for COVID19Py (setup.py) ... \u001b[?25l\u001b[?25hdone\n",
            "  Created wheel for COVID19Py: filename=COVID19Py-0.3.0-cp36-none-any.whl size=4719 sha256=60a3b78fe2465ddef3345afa1a643583c7430114d7aee2b38b89ca33d4428b50\n",
            "  Stored in directory: /root/.cache/pip/wheels/23/78/50/78aaca989f422d636b01b9c55cd5e327fef838e973690f886c\n",
            "Successfully built COVID19Py\n",
            "Installing collected packages: COVID19Py\n",
            "Successfully installed COVID19Py-0.3.0\n",
            "Requirement already satisfied: matplotlib in /usr/local/lib/python3.6/dist-packages (3.2.1)\n",
            "Requirement already satisfied: cycler>=0.10 in /usr/local/lib/python3.6/dist-packages (from matplotlib) (0.10.0)\n",
            "Requirement already satisfied: numpy>=1.11 in /usr/local/lib/python3.6/dist-packages (from matplotlib) (1.18.2)\n",
            "Requirement already satisfied: pyparsing!=2.0.4,!=2.1.2,!=2.1.6,>=2.0.1 in /usr/local/lib/python3.6/dist-packages (from matplotlib) (2.4.7)\n",
            "Requirement already satisfied: kiwisolver>=1.0.1 in /usr/local/lib/python3.6/dist-packages (from matplotlib) (1.2.0)\n",
            "Requirement already satisfied: python-dateutil>=2.1 in /usr/local/lib/python3.6/dist-packages (from matplotlib) (2.8.1)\n",
            "Requirement already satisfied: six in /usr/local/lib/python3.6/dist-packages (from cycler>=0.10->matplotlib) (1.12.0)\n"
          ],
          "name": "stdout"
        }
      ]
    },
    {
      "cell_type": "markdown",
      "metadata": {
        "id": "8mN-Vl82bARN",
        "colab_type": "text"
      },
      "source": [
        "IMPORTA I MODULI"
      ]
    },
    {
      "cell_type": "code",
      "metadata": {
        "id": "DvLMeXA0a9qF",
        "colab_type": "code",
        "colab": {}
      },
      "source": [
        "from matplotlib import pyplot as plt\n",
        "import COVID19Py\n",
        "import datetime\n",
        "import os\n",
        "import re "
      ],
      "execution_count": 0,
      "outputs": []
    },
    {
      "cell_type": "markdown",
      "metadata": {
        "id": "xA1rS3g0FS86",
        "colab_type": "text"
      },
      "source": [
        "IMPOSTA LA DATA"
      ]
    },
    {
      "cell_type": "code",
      "metadata": {
        "id": "zcFwXoziFZP4",
        "colab_type": "code",
        "colab": {}
      },
      "source": [
        "# +1 italy time zo8ne > str( int (data.hour + 1))\n",
        "data = datetime.datetime.now()\n",
        "data = (str(data.year) + \"-\" + str(data.month) + \"-\" + \\\n",
        "       str(data.day))"
      ],
      "execution_count": 0,
      "outputs": []
    },
    {
      "cell_type": "markdown",
      "metadata": {
        "id": "EP7h7VtPbTlG",
        "colab_type": "text"
      },
      "source": [
        "CASI CONFERMATI"
      ]
    },
    {
      "cell_type": "code",
      "metadata": {
        "id": "FjaISfuMb-N_",
        "colab_type": "code",
        "outputId": "af9bbdd9-6e31-4219-a1f2-d48fbf0d7be7",
        "colab": {
          "base_uri": "https://localhost:8080/",
          "height": 313
        }
      },
      "source": [
        "#\n",
        "# PROGRAMMA PER CURVA CONTAGI\n",
        "#\n",
        "#\n",
        "#\n",
        "#\n",
        "\n",
        "covid19 = COVID19Py.COVID19(data_source=\"jhu\")\n",
        "# info from jhu Johns Hopkins University Center for Systems Science\n",
        "# and Engineering\n",
        "\n",
        "latest = covid19.getLatest()\n",
        "\n",
        "location = covid19.getLocationByCountryCode(\"IT\", timelines=True)\n",
        "\n",
        "location = str (location)\n",
        "\n",
        "p = (location.find (\", 'timelines': {'confirmed': \"))\n",
        "p2 = (location.find (\", 'deaths': {'latest':\"))\n",
        "\n",
        "f = open (\"death_covid19.txt\", \"w\")\n",
        "f.write (location [p:p2])\n",
        "\n",
        "f.close()\n",
        "\n",
        "print (\"------confirmed-------\")\n",
        "\n",
        "g = open (\"death_covid19.txt\", \"r\")\n",
        "death_s = g.read()\n",
        "death_s = str (death_s)\n",
        "\n",
        "p3 = (death_s.find (\"'timeline': \"))\n",
        "\n",
        "death_s = death_s[p3 + 12:]\n",
        "\n",
        "g.close()\n",
        "\n",
        "h = open (\"death_covid19.txt\", \"w\")\n",
        "h.write (death_s)\n",
        "h.close()\n",
        "\n",
        "h = open (\"death_covid19.txt\", \"r\")\n",
        "h = h.read()[1:-1]\n",
        "h = re.split(\": |,\", h)\n",
        "days = (h[0::2])\n",
        "infected = (h[1::2])\n",
        "\n",
        "days = [elem[:12] for elem in days]\n",
        "\n",
        "days = [elem for elem in days if elem.strip()]\n",
        "\n",
        "days = [item.replace('T', '') for item in days]\n",
        "days = [item.replace(\"'\", '') for item in days]\n",
        "days = [item.replace(\" \", '') for item in days]\n",
        "\n",
        "infected = [item.replace(\"}\", '') for item in infected]\n",
        "\n",
        "infected = list(map(int, infected))\n",
        "\n",
        "n = 0\n",
        "a = open (\"infected_covid19_daily.txt\", \"w\")\n",
        "a.write (str (infected[0]) + \"\\n\")\n",
        "try:\n",
        "  for e in infected:\n",
        "    d_infected = infected[n + 1] - infected [n]\n",
        "    n = n + 1\n",
        "    a.write (str (d_infected) + \"\\n\")\n",
        "except: pass \n",
        "a.close()\n",
        "\n",
        "a = open (\"infected_covid19_daily.txt\", \"r\")\n",
        "\n",
        "d_infected = a.read()\n",
        "d_infected = list(map(int, d_infected.split(\"\\n\")[:-1]))\n",
        "\n",
        "print (data)\n",
        "\n",
        "# GRAPH\n",
        "# install matplotlib\n",
        "\n",
        "plt.plot(d_infected, label=\"confirmed to date\")\n",
        "plt.ylabel(\"confirmed to date\")\n",
        "plt.xlabel(\"days since 2020-01-22\")\n",
        "plt.legend() \n",
        "\n",
        "plt.show()"
      ],
      "execution_count": 0,
      "outputs": [
        {
          "output_type": "stream",
          "text": [
            "------confirmed-------\n",
            "2020-4-22\n"
          ],
          "name": "stdout"
        },
        {
          "output_type": "display_data",
          "data": {
            "image/png": "[encoded data removed]",
            "text/plain": [
              "<Figure size 432x288 with 1 Axes>"
            ]
          },
          "metadata": {
            "tags": [],
            "needs_background": "light"
          }
        }
      ]
    },
    {
      "cell_type": "markdown",
      "metadata": {
        "id": "V_s0a3HAduDL",
        "colab_type": "text"
      },
      "source": [
        "DECESSI CONFERMATI"
      ]
    },
    {
      "cell_type": "code",
      "metadata": {
        "id": "Zph-4IdebTJ6",
        "colab_type": "code",
        "outputId": "61aa4df8-1b06-4bbf-df8a-ed7d5e6fa26f",
        "colab": {
          "base_uri": "https://localhost:8080/",
          "height": 313
        }
      },
      "source": [
        "covid19 = COVID19Py.COVID19(data_source=\"jhu\")\n",
        "# info from jhu Johns Hopkins University Center for Systems Science\n",
        "# and Engineering\n",
        "\n",
        "latest = covid19.getLatest()\n",
        "\n",
        "location = covid19.getLocationByCountryCode(\"IT\", timelines=True)\n",
        "\n",
        "location = str (location)\n",
        "\n",
        "p = (location.find (\"'deaths': {\"))\n",
        "p2 = (location.find (\"}, 'recovered': \"))\n",
        "\n",
        "f = open (\"death_covid19.txt\", \"w\")\n",
        "f.write (location [p:p2])\n",
        "\n",
        "f.close()\n",
        "\n",
        "print (\"------fatalities-------\")\n",
        "\n",
        "g = open (\"death_covid19.txt\", \"r\")\n",
        "death_s = g.read()\n",
        "death_s = str (death_s)\n",
        "\n",
        "p3 = (death_s.find (\"'timeline': \"))\n",
        "\n",
        "death_s = death_s[p3 + 12:]\n",
        "g.close()\n",
        "\n",
        "h = open (\"death_covid19.txt\", \"w\")\n",
        "h.write (death_s)\n",
        "h.close()\n",
        "\n",
        "h = open (\"death_covid19.txt\", \"r\")\n",
        "h = h.read()[1:-1]\n",
        "h = re.split(\": |,\", h)\n",
        "days = (h[0::2])\n",
        "death = (h[1::2])\n",
        "\n",
        "\n",
        "days = [elem[:12] for elem in days]\n",
        "\n",
        "days = [elem for elem in days if elem.strip()]\n",
        "\n",
        "days = [item.replace('T', '') for item in days]\n",
        "days = [item.replace(\"'\", '') for item in days]\n",
        "days = [item.replace(\" \", '') for item in days]\n",
        "\n",
        "death = list(map(int, death))\n",
        "n = 0\n",
        "a = open (\"death_covid19_daily.txt\", \"w\")\n",
        "a.write (str (death[0]) + \"\\n\")\n",
        "try:\n",
        "  for e in death:\n",
        "    d_death = death[n + 1] - death [n]\n",
        "    n = n + 1\n",
        "    a.write (str (d_death) + \"\\n\")\n",
        "except: pass \n",
        "a.close()\n",
        "\n",
        "a = open (\"death_covid19_daily.txt\", \"r\")\n",
        "\n",
        "d_death = a.read()\n",
        "d_death = list(map(int, d_death.split(\"\\n\")[:-1]))\n",
        "\n",
        "print (data)\n",
        "\n",
        "# GRAPH\n",
        "# install matplotlib\n",
        "\n",
        "plt.plot(d_death, label=\"fatalities to date\")\n",
        "plt.ylabel(\"fatalities to date\")\n",
        "plt.xlabel(\"days since 2020-01-22\")\n",
        "plt.legend()\n",
        "\n",
        "plt.show()"
      ],
      "execution_count": 0,
      "outputs": [
        {
          "output_type": "stream",
          "text": [
            "------fatalities-------\n",
            "2020-4-22\n"
          ],
          "name": "stdout"
        },
        {
          "output_type": "display_data",
          "data": {
            "image/png": "[encoded data removed]",
            "text/plain": [
              "<Figure size 432x288 with 1 Axes>"
            ]
          },
          "metadata": {
            "tags": [],
            "needs_background": "light"
          }
        }
      ]
    },
    {
      "cell_type": "markdown",
      "metadata": {
        "id": "q3QcyDeDdojN",
        "colab_type": "text"
      },
      "source": [
        "CONTAGI SU DECESSI CONFERMATI"
      ]
    },
    {
      "cell_type": "code",
      "metadata": {
        "id": "0GHgJzCwdoqB",
        "colab_type": "code",
        "outputId": "94a672ff-134f-4f55-8482-4b463ac96526",
        "colab": {
          "base_uri": "https://localhost:8080/",
          "height": 313
        }
      },
      "source": [
        "#\n",
        "# PROGRAMMA PER CURVA CONTAGI SU DECESSI\n",
        "#\n",
        "#\n",
        "#\n",
        "#\n",
        "#\n",
        "\n",
        "covid19 = COVID19Py.COVID19(data_source=\"jhu\")\n",
        "# info from jhu Johns Hopkins University Center for Systems Science\n",
        "# and Engineering\n",
        "\n",
        "latest = covid19.getLatest()\n",
        "\n",
        "location = covid19.getLocationByCountryCode(\"IT\", timelines=True)\n",
        "\n",
        "location = str (location)\n",
        "\n",
        "p = (location.find (\", 'timelines': {'confirmed': \"))\n",
        "p2 = (location.find (\", 'deaths': {'latest':\"))\n",
        "\n",
        "f = open (\"death_covid19.txt\", \"w\")\n",
        "f.write (location [p:p2])\n",
        "\n",
        "f.close()\n",
        "\n",
        "g = open (\"death_covid19.txt\", \"r\")\n",
        "death_s = g.read()\n",
        "death_s = str (death_s)\n",
        "\n",
        "p3 = (death_s.find (\"'timeline': \"))\n",
        "\n",
        "death_s = death_s[p3 + 12:]\n",
        "\n",
        "g.close()\n",
        "\n",
        "h = open (\"death_covid19.txt\", \"w\")\n",
        "h.write (death_s)\n",
        "h.close()\n",
        "\n",
        "h = open (\"death_covid19.txt\", \"r\")\n",
        "h = h.read()[1:-1]\n",
        "h = re.split(\": |,\", h)\n",
        "days = (h[0::2])\n",
        "infected = (h[1::2])\n",
        "\n",
        "days = [elem[:12] for elem in days]\n",
        "\n",
        "days = [elem for elem in days if elem.strip()]\n",
        "\n",
        "days = [item.replace('T', '') for item in days]\n",
        "days = [item.replace(\"'\", '') for item in days]\n",
        "days = [item.replace(\" \", '') for item in days]\n",
        "\n",
        "infected = [item.replace(\"}\", '') for item in infected]\n",
        "\n",
        "infected = list(map(int, infected))\n",
        "\n",
        "n = 0\n",
        "a = open (\"infected_covid19_daily.txt\", \"w\")\n",
        "a.write (str (infected[0]) + \"\\n\")\n",
        "try:\n",
        "  for e in infected:\n",
        "    d_infected = infected[n + 1] - infected [n]\n",
        "    n = n + 1\n",
        "    a.write (str (d_infected) + \"\\n\")\n",
        "except: pass \n",
        "a.close()\n",
        "\n",
        "a = open (\"infected_covid19_daily.txt\", \"r\")\n",
        "\n",
        "d_infected = a.read()\n",
        "d_infected = list(map(int, d_infected.split(\"\\n\")[:-1]))\n",
        "\n",
        "covid19 = COVID19Py.COVID19(data_source=\"jhu\")\n",
        "# info from jhu Johns Hopkins University Center for Systems Science\n",
        "# and Engineering\n",
        "\n",
        "latest = covid19.getLatest()\n",
        "\n",
        "location = covid19.getLocationByCountryCode(\"IT\", timelines=True)\n",
        "\n",
        "location = str (location)\n",
        "\n",
        "p = (location.find (\"'deaths': {\"))\n",
        "p2 = (location.find (\"}, 'recovered': \"))\n",
        "\n",
        "f = open (\"death_covid19.txt\", \"w\")\n",
        "f.write (location [p:p2])\n",
        "\n",
        "f.close()\n",
        "\n",
        "g = open (\"death_covid19.txt\", \"r\")\n",
        "death_s = g.read()\n",
        "death_s = str (death_s)\n",
        "\n",
        "p3 = (death_s.find (\"'timeline': \"))\n",
        "\n",
        "death_s = death_s[p3 + 12:]\n",
        "g.close()\n",
        "\n",
        "h = open (\"death_covid19.txt\", \"w\")\n",
        "h.write (death_s)\n",
        "h.close()\n",
        "\n",
        "h = open (\"death_covid19.txt\", \"r\")\n",
        "h = h.read()[1:-1]\n",
        "h = re.split(\": |,\", h)\n",
        "days = (h[0::2])\n",
        "death = (h[1::2])\n",
        "\n",
        "\n",
        "days = [elem[:12] for elem in days]\n",
        "\n",
        "days = [elem for elem in days if elem.strip()]\n",
        "\n",
        "days = [item.replace('T', '') for item in days]\n",
        "days = [item.replace(\"'\", '') for item in days]\n",
        "days = [item.replace(\" \", '') for item in days]\n",
        "\n",
        "\n",
        "\n",
        "death = list(map(int, death))\n",
        "n = 0\n",
        "a = open (\"death_covid19_daily.txt\", \"w\")\n",
        "a.write (str (death[0]) + \"\\n\")\n",
        "try:\n",
        "  for e in death:\n",
        "    d_death = death[n + 1] - death [n]\n",
        "    n = n + 1\n",
        "    a.write (str (d_death) + \"\\n\")\n",
        "except: pass \n",
        "a.close()\n",
        "\n",
        "a = open (\"death_covid19_daily.txt\", \"r\")\n",
        "\n",
        "d_death = a.read()\n",
        "d_death = list(map(int, d_death.split(\"\\n\")[:-1]))\n",
        "\n",
        "print (\"------confirmed / fatalities-------\")\n",
        "\n",
        "print (data)\n",
        "\n",
        "# GRAPH\n",
        "# install matplotlib\n",
        "\n",
        "plt.plot(d_infected, label=\"confirmed to date\")\n",
        "plt.plot(d_death, label=\"fatalities to date\")\n",
        "plt.ylabel(\"confirmed to date\")\n",
        "plt.xlabel(\"days since 2020-01-22\")\n",
        "plt.legend() \n",
        "plt.show()"
      ],
      "execution_count": 0,
      "outputs": [
        {
          "output_type": "stream",
          "text": [
            "------confirmed / fatalities-------\n",
            "2020-4-22\n"
          ],
          "name": "stdout"
        },
        {
          "output_type": "display_data",
          "data": {
            "image/png": "[encoded data removed]",
            "text/plain": [
              "<Figure size 432x288 with 1 Axes>"
            ]
          },
          "metadata": {
            "tags": [],
            "needs_background": "light"
          }
        }
      ]
    },
    {
      "cell_type": "markdown",
      "metadata": {
        "id": "PbN8r5x5-I76",
        "colab_type": "text"
      },
      "source": [
        "CANCELLARE I FILE NON NECESSARI"
      ]
    },
    {
      "cell_type": "code",
      "metadata": {
        "id": "0dmLlBlB-CEj",
        "colab_type": "code",
        "colab": {}
      },
      "source": [
        "os.remove('death_covid19.txt')"
      ],
      "execution_count": 0,
      "outputs": []
    }
  ]
}